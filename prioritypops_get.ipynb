{
 "cells": [
  {
   "cell_type": "code",
   "execution_count": 1,
   "metadata": {},
   "outputs": [
    {
     "name": "stdout",
     "output_type": "stream",
     "text": [
      "Available Layers:\n",
      "0: Disadvantaged_Communities_TribalLands\n",
      "3: Disadvantaged_Communities_CES4\n",
      "1: Buffer_Low_income_Communities\n",
      "5: Low_income_Communities\n",
      "6: Buffer_Low_income_Household\n",
      "7: Low_income_Household\n",
      "\n",
      "Available Tables:\n"
     ]
    }
   ],
   "source": [
    "import requests\n",
    "\n",
    "# Base URL for the FeatureServer\n",
    "base_url = \"https://gis.carb.arb.ca.gov/hosting/rest/services/Hosted/Priority_Populations_2023_Update/FeatureServer\"\n",
    "\n",
    "# Make a GET request to fetch the service directory\n",
    "response = requests.get(f\"{base_url}?f=json\")\n",
    "\n",
    "# Check if the request was successful\n",
    "if response.status_code == 200:\n",
    "    service_directory = response.json()\n",
    "    # Print available layers and tables\n",
    "    print(\"Available Layers:\")\n",
    "    for layer in service_directory.get(\"layers\", []):\n",
    "        print(f\"{layer['id']}: {layer['name']}\")\n",
    "    \n",
    "    print(\"\\nAvailable Tables:\")\n",
    "    for table in service_directory.get(\"tables\", []):\n",
    "        print(f\"{table['id']}: {table['name']}\")\n",
    "else:\n",
    "    print(f\"Failed to retrieve data: {response.status_code}\")\n"
   ]
  }
 ],
 "metadata": {
  "kernelspec": {
   "display_name": "Python 3",
   "language": "python",
   "name": "python3"
  },
  "language_info": {
   "name": "python",
   "version": "3.11.5"
  }
 },
 "nbformat": 4,
 "nbformat_minor": 2
}
