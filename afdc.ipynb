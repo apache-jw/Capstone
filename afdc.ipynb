{
 "cells": [
  {
   "cell_type": "markdown",
   "metadata": {},
   "source": [
    "##### Define API Parameters to NREL Endpoint (California, Electric)"
   ]
  },
  {
   "cell_type": "code",
   "execution_count": null,
   "metadata": {},
   "outputs": [],
   "source": [
    "import requests\n",
    "import pandas as pd\n",
    "import matplotlib.pyplot as plt\n",
    "\n",
    "\n",
    "url = 'https://developer.nrel.gov/api/altfuelstations/v1/nearest.json'\n",
    "params = {\n",
    "    'api_key': 'UDdCNAUAMtLRNze1XTZAShSinKFfGXsxoBdBpSXc',\n",
    "    'location': 'California',\n",
    "    'fuel_type': 'ELEC',\n",
    "    'limit': 100,\n",
    "    'radius': 500\n",
    "}\n",
    "\n",
    "response = requests.get(url, params=params)\n",
    "data = response.json()\n"
   ]
  },
  {
   "cell_type": "markdown",
   "metadata": {},
   "source": [
    "##### Process Data (Remove Non Electric Alternative Fuel Columns)"
   ]
  },
  {
   "cell_type": "code",
   "execution_count": null,
   "metadata": {},
   "outputs": [],
   "source": [
    "# Define the relevant columns\n",
    "relevant_columns = [\n",
    "    'Station Name', 'Street Address', 'City', 'State', 'ZIP', 'Latitude', 'Longitude',\n",
    "    'EV Level1 EVSE Num', 'EV Level2 EVSE Num', 'EV DC Fast Count', 'EV Network',\n",
    "    'EV Network Web', 'Access Days Time', 'Station Phone', 'EV Connector Types'\n",
    "]\n",
    "\n",
    "# Convert data to DataFrame\n",
    "df = pd.DataFrame(data['fuel_stations'])\n",
    "\n",
    "# Filter for relevant columns and copy to a new DataFrame\n",
    "df_elec = df[relevant_columns].copy()\n"
   ]
  },
  {
   "cell_type": "markdown",
   "metadata": {},
   "source": [
    "##### Create Map "
   ]
  },
  {
   "cell_type": "code",
   "execution_count": null,
   "metadata": {},
   "outputs": [],
   "source": [
    "# Create a map centered around California\n",
    "map = folium.Map(location=[36.7783, -119.4179], zoom_start=6)\n",
    "\n",
    "# Add points to the map\n",
    "for idx, row in df_elec.iterrows():\n",
    "    folium.Marker([row['Latitude'], row['Longitude']], popup=f\"{row['Station Name']}: {row['Street Address']}\").add_to(map)\n",
    "\n",
    "# Display the map\n",
    "map\n"
   ]
  }
 ],
 "metadata": {
  "language_info": {
   "name": "python"
  }
 },
 "nbformat": 4,
 "nbformat_minor": 2
}
