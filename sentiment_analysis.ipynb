{
 "cells": [
  {
   "cell_type": "markdown",
   "metadata": {},
   "source": [
    "### Sentiment Analysis of Electric Vehicle Research "
   ]
  },
  {
   "cell_type": "code",
   "execution_count": 7,
   "metadata": {},
   "outputs": [
    {
     "ename": "FileNotFoundError",
     "evalue": "[WinError 3] The system cannot find the path specified: 'apache-jw/Capstone/txt_data/'",
     "output_type": "error",
     "traceback": [
      "\u001b[1;31m---------------------------------------------------------------------------\u001b[0m",
      "\u001b[1;31mFileNotFoundError\u001b[0m                         Traceback (most recent call last)",
      "Cell \u001b[1;32mIn[7], line 12\u001b[0m\n\u001b[0;32m      9\u001b[0m directory \u001b[38;5;241m=\u001b[39m \u001b[38;5;124m'\u001b[39m\u001b[38;5;124mapache-jw/Capstone/txt_data/\u001b[39m\u001b[38;5;124m'\u001b[39m\n\u001b[0;32m     11\u001b[0m \u001b[38;5;66;03m# Iterate over every file in the directory\u001b[39;00m\n\u001b[1;32m---> 12\u001b[0m \u001b[38;5;28;01mfor\u001b[39;00m filename \u001b[38;5;129;01min\u001b[39;00m os\u001b[38;5;241m.\u001b[39mlistdir(directory):\n\u001b[0;32m     13\u001b[0m     \u001b[38;5;66;03m# Check if the file is a text file\u001b[39;00m\n\u001b[0;32m     14\u001b[0m     \u001b[38;5;28;01mif\u001b[39;00m filename\u001b[38;5;241m.\u001b[39mendswith(\u001b[38;5;124m\"\u001b[39m\u001b[38;5;124m.txt\u001b[39m\u001b[38;5;124m\"\u001b[39m):\n\u001b[0;32m     15\u001b[0m         \u001b[38;5;66;03m# Specify the path to the file\u001b[39;00m\n\u001b[0;32m     16\u001b[0m         file_path \u001b[38;5;241m=\u001b[39m os\u001b[38;5;241m.\u001b[39mpath\u001b[38;5;241m.\u001b[39mjoin(directory, filename)\n",
      "\u001b[1;31mFileNotFoundError\u001b[0m: [WinError 3] The system cannot find the path specified: 'apache-jw/Capstone/txt_data/'"
     ]
    }
   ],
   "source": [
    "import os\n",
    "from nltk.sentiment import SentimentIntensityAnalyzer\n",
    "from nltk.tokenize import sent_tokenize\n",
    "\n",
    "# Initialize NLTK's sentiment intensity analyzer\n",
    "sia = SentimentIntensityAnalyzer()\n",
    "\n",
    "# Specify the relative path to your subfolder\n",
    "directory = 'apache-jw/Capstone/txt_data/'\n",
    "\n",
    "# Iterate over every file in the directory\n",
    "for filename in os.listdir(directory):\n",
    "    # Check if the file is a text file\n",
    "    if filename.endswith(\".txt\"):\n",
    "        # Specify the path to the file\n",
    "        file_path = os.path.join(directory, filename)\n",
    "        try:\n",
    "            # Open the file in read mode\n",
    "            with open(file_path, 'r') as file:\n",
    "                # Read the file\n",
    "                data = file.read()\n",
    "                # Tokenize the text into sentences\n",
    "                sentences = sent_tokenize(data)\n",
    "                # Iterate over each sentence\n",
    "                for sentence in sentences:\n",
    "                    # Calculate the sentiment of the sentence\n",
    "                    sentiment = sia.polarity_scores(sentence)\n",
    "                    # Print the sentence and its sentiment\n",
    "                    print(f'Sentence: {sentence}\\nSentiment: {sentiment}\\n')\n",
    "        except FileNotFoundError:\n",
    "            print(f'The file {file_path} does not exist.')"
   ]
  }
 ],
 "metadata": {
  "kernelspec": {
   "display_name": "base",
   "language": "python",
   "name": "python3"
  },
  "language_info": {
   "codemirror_mode": {
    "name": "ipython",
    "version": 3
   },
   "file_extension": ".py",
   "mimetype": "text/x-python",
   "name": "python",
   "nbconvert_exporter": "python",
   "pygments_lexer": "ipython3",
   "version": "3.11.5"
  }
 },
 "nbformat": 4,
 "nbformat_minor": 2
}
