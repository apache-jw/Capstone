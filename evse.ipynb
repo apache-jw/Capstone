{
 "cells": [
  {
   "cell_type": "code",
   "execution_count": 1,
   "metadata": {},
   "outputs": [
    {
     "name": "stderr",
     "output_type": "stream",
     "text": [
     ]
    },
    {
     "data": {
      "text/plain": [
       "Index(['Fuel Type Code', 'Station Name', 'Street Address',\n",
       "       'Intersection Directions', 'City', 'State', 'ZIP', 'Station Phone',\n",
       "       'Status Code', 'Expected Date', 'Groups With Access Code',\n",
       "       'Access Days Time', 'Cards Accepted', 'EV Level1 EVSE Num',\n",
       "       'EV Level2 EVSE Num', 'EV DC Fast Count', 'EV Network',\n",
       "       'EV Network Web', 'Geocode Status', 'Latitude', 'Longitude',\n",
       "       'Date Last Confirmed', 'ID', 'Updated At', 'Owner Type Code',\n",
       "       'Federal Agency ID', 'Federal Agency Name', 'Open Date',\n",
       "       'EV Connector Types', 'Country', 'Intersection Directions (French)',\n",
       "       'Access Days Time (French)', 'Groups With Access Code (French)',\n",
       "       'Access Code', 'Access Detail Code', 'Federal Agency Code',\n",
       "       'Facility Type', 'EV Pricing', 'EV Pricing (French)',\n",
       "       'EV On-Site Renewable Source', 'Restricted Access', 'NPS Unit Name',\n",
       "       'Maximum Vehicle Class', 'EV Workplace Charging'],\n",
       "      dtype='object')"
      ]
     },
     "execution_count": 1,
     "metadata": {},
     "output_type": "execute_result"
    }
   ],
   "source": [
    "import pandas as pd\n",
    "df = pd.read_csv('california_chargers.csv')\n",
    "df.columns"
   ]
  },
  {
   "cell_type": "markdown",
   "metadata": {},
   "source": [
    "### Southeast california "
   ]
  },
  {
   "cell_type": "code",
   "execution_count": 13,
   "metadata": {},
   "outputs": [
    {
     "name": "stderr",
     "output_type": "stream",
     "text": [
      ""
     ]
    }
   ],
   "source": [
    "import folium \n",
    "df = pd.read_csv('fuel_data.csv')\n",
    "m = folium.Map(location=[37.7749, -122.4194], zoom_start=10)\n",
    "mc = MarkerCluster()\n",
    "for idx, row in df.iterrows():\n",
    "    mc.add_child(folium.Marker(location=[row['Latitude'], row['Longitude']]))\n",
    "m.add_child(mc)\n",
    "m.save('usa_map.html')\n"
   ]
  },
  {
   "cell_type": "code",
   "execution_count": 2,
   "metadata": {},
   "outputs": [
    {
     "name": "stderr",
     "output_type": "stream",
     "text": [
      ""
     ]
    },
    {
     "data": {
      "text/plain": [
       "Index(['Fuel Type Code', 'Station Name', 'Street Address',\n",
       "       'Intersection Directions', 'City', 'State', 'ZIP', 'Plus4',\n",
       "       'Station Phone', 'Status Code', 'Expected Date',\n",
       "       'Groups With Access Code', 'Access Days Time', 'Cards Accepted',\n",
       "       'BD Blends', 'NG Fill Type Code', 'NG PSI', 'EV Level1 EVSE Num',\n",
       "       'EV Level2 EVSE Num', 'EV DC Fast Count', 'EV Other Info', 'EV Network',\n",
       "       'EV Network Web', 'Geocode Status', 'Latitude', 'Longitude',\n",
       "       'Date Last Confirmed', 'ID', 'Updated At', 'Owner Type Code',\n",
       "       'Federal Agency ID', 'Federal Agency Name', 'Open Date',\n",
       "       'Hydrogen Status Link', 'NG Vehicle Class', 'LPG Primary',\n",
       "       'E85 Blender Pump', 'EV Connector Types', 'Country',\n",
       "       'Intersection Directions (French)', 'Access Days Time (French)',\n",
       "       'BD Blends (French)', 'Groups With Access Code (French)',\n",
       "       'Hydrogen Is Retail', 'Access Code', 'Access Detail Code',\n",
       "       'Federal Agency Code', 'Facility Type', 'CNG Dispenser Num',\n",
       "       'CNG On-Site Renewable Source', 'CNG Total Compression Capacity',\n",
       "       'CNG Storage Capacity', 'LNG On-Site Renewable Source',\n",
       "       'E85 Other Ethanol Blends', 'EV Pricing', 'EV Pricing (French)',\n",
       "       'LPG Nozzle Types', 'Hydrogen Pressures', 'Hydrogen Standards',\n",
       "       'CNG Fill Type Code', 'CNG PSI', 'CNG Vehicle Class',\n",
       "       'LNG Vehicle Class', 'EV On-Site Renewable Source', 'Restricted Access',\n",
       "       'RD Blends', 'RD Blends (French)', 'RD Blended with Biodiesel',\n",
       "       'RD Maximum Biodiesel Level', 'NPS Unit Name',\n",
       "       'CNG Station Sells Renewable Natural Gas',\n",
       "       'LNG Station Sells Renewable Natural Gas', 'Maximum Vehicle Class',\n",
       "       'EV Workplace Charging'],\n",
       "      dtype='object')"
      ]
     },
     "execution_count": 2,
     "metadata": {},
     "output_type": "execute_result"
    }
   ],
   "source": [
    "## list column names \n",
    "\n",
    "df = pd.read_csv('fuel_data.csv')\n",
    "#unique values for first column\n",
    "df['Fuel Type Code'].unique()\n",
    "df.columns"
   ]
  },
  {
   "cell_type": "code",
   "execution_count": 6,
   "metadata": {},
   "outputs": [
    {
     "name": "stderr",
     "output_type": "stream",
     "text": [
      ""
     ]
    }
   ],
   "source": [
    "# Define a list of columns relevant to electric fuel types\n",
    "df = pd.read_csv('stations_new.csv')\n",
    "relevant_columns = [\n",
    "    'Station Name', 'Street Address', 'City', 'State', 'ZIP', 'Latitude', 'Longitude',\n",
    "    'EV Level1 EVSE Num', 'EV Level2 EVSE Num', 'EV DC Fast Count', 'EV Network',\n",
    "    'EV Network Web', 'Access Days Time', 'Station Phone', 'EV Connector Types'\n",
    "]\n",
    "\n",
    "# Drop columns that are not in the list of relevant columns\n",
    "df_elec = df[relevant_columns].copy()\n"
   ]
  },
  {
   "cell_type": "code",
   "execution_count": 25,
   "metadata": {},
   "outputs": [],
   "source": [
    "import folium\n",
    "from folium.plugins import MarkerCluster\n",
    "\n",
    "# Assuming df_elec is your DataFrame after filtering columns\n",
    "\n",
    "# Create a base map\n",
    "m_elec = folium.Map(location=[37.7749, -122.4194], zoom_start=10)\n",
    "\n",
    "# Initialize a marker cluster\n",
    "mc_elec = MarkerCluster()\n",
    "\n",
    "# Loop through the DataFrame and add each EV station to the map\n",
    "for idx, row in df_elec.iterrows():\n",
    "    # Prepare popup text with EV-specific details\n",
    "    popup_text = f\"\"\"\n",
    "    <strong>Station Name:</strong> {row['Station Name']}<br>\n",
    "    <strong>Address:</strong> {row['Street Address']}, {row['City']}, {row['State']} {row['ZIP']}<br>\n",
    "    <strong>Phone:</strong> {row['Station Phone']}<br>\n",
    "    <strong>EV Level 1 EVSE:</strong> {row['EV Level1 EVSE Num']}<br>\n",
    "    <strong>EV Level 2 EVSE:</strong> {row['EV Level2 EVSE Num']}<br>\n",
    "    <strong>EV DC Fast Count:</strong> {row['EV DC Fast Count']}<br>\n",
    "    <strong>EV Network:</strong> {row['EV Network']}<br>\n",
    "    <strong>Access Days and Time:</strong> {row['Access Days Time']}\n",
    "    \"\"\"\n",
    "    # Add a marker for the station\n",
    "    mc_elec.add_child(folium.Marker(\n",
    "        location=[row['Latitude'], row['Longitude']],\n",
    "        popup=folium.Popup(popup_text, max_width=300)\n",
    "    ))\n",
    "\n",
    "# Add the MarkerCluster to the map\n",
    "m_elec.add_child(mc_elec)\n",
    "\n",
    "# Save the map to an HTML file\n",
    "m_elec.save('electric_stations_map.html')\n"
   ]
  },
  {
   "cell_type": "code",
   "execution_count": 29,
   "metadata": {},
   "outputs": [],
   "source": [
    "import folium\n",
    "from folium.plugins import MarkerCluster\n",
    "import geopandas as gpd\n",
    "import pandas as pd\n",
    "\n",
    "# Assuming df_elec is your DataFrame filtered for electric fuel types\n",
    "# Filter the DataFrame for stations in California\n",
    "df_elec_ca = df_elec[df_elec['State'] == 'CA'].copy()\n",
    "\n",
    "# Initialize the map centered around California\n",
    "m_elec_ca = folium.Map(location=[36.7783, -119.4179], zoom_start=6)\n",
    "\n",
    "# Initialize a marker cluster for California\n",
    "mc_elec_ca = MarkerCluster()\n",
    "\n",
    "# Loop through the filtered DataFrame and add each EV station to the map\n",
    "for idx, row in df_elec_ca.iterrows():\n",
    "    popup_text = f\"\"\"\n",
    "    <strong>Station Name:</strong> {row['Station Name']}<br>\n",
    "    <strong>Address:</strong> {row['Street Address']}, {row['City']}, {row['State']} {row['ZIP']}<br>\n",
    "    <strong>Phone:</strong> {row['Station Phone']}<br>\n",
    "    <strong>EV Level 1 EVSE:</strong> {row['EV Level1 EVSE Num']}<br>\n",
    "    <strong>EV Level 2 EVSE:</strong> {row['EV Level2 EVSE Num']}<br>\n",
    "    <strong>EV DC Fast Count:</strong> {row['EV DC Fast Count']}<br>\n",
    "    <strong>EV Network:</strong> {row['EV Network']}\n",
    "    \"\"\"\n",
    "    mc_elec_ca.add_child(folium.Marker(\n",
    "        location=[row['Latitude'], row['Longitude']],\n",
    "        popup=folium.Popup(popup_text, max_width=300)\n",
    "    ))\n",
    "\n",
    "# Add the MarkerCluster to the map\n",
    "m_elec_ca.add_child(mc_elec_ca)\n",
    "\n",
    "# Define unique colors for each layer\n",
    "colors = ['blue', 'green', 'red', 'purple']\n",
    "\n",
    "# List of ZIP file paths for your shapefiles\n",
    "zipfile_paths = [,
    "\n",
    "# Loop through each ZIP file, load, and add to the map with unique colors\n",
    "for zip_path, color in zip(zipfile_paths, colors):\n",
    "    gdf = gpd.read_file(f'zip://{zip_path}')\n",
    "    \n",
    "    # Check if the GeoDataFrame contains LineString geometries for Traffic Volumes\n",
    "    if 'Traffic_Volumes_AADT' in zip_path and any(gdf.geom_type == 'LineString'):\n",
    "        style_function = lambda x: {'color': color, 'weight': 3}\n",
    "    else:  # Default style for other layers\n",
    "        style_function = lambda x: {'fillColor': color, 'color': color, 'weight': 1}\n",
    "    \n",
    "    # Overlay GeoJSON on the map\n",
    "    folium.GeoJson(\n",
    "        gdf,\n",
    "        style_function=style_function,\n",
    "        name=zip_path.split('/')[-1].split('.')[0]  # Naming the layer by the ZIP file name\n",
    "    ).add_to(m_elec_ca)\n",
    "\n",
    "# Optionally, add a layer control to toggle the GeoJSON layers\n",
    "folium.LayerControl().add_to(m_elec_ca)\n",
    "\n",
    "# Save the map\n",
    "m_elec_ca.save('electric_stations_map_ca_with_shapefiles_v2.html')\n"
   ]
  },
  {
   "cell_type": "code",
   "execution_count": 11,
   "metadata": {},
   "outputs": [
    {
     "name": "stderr",
     "output_type": "stream",
     "text": [
     ]
    },
    {
    
    }
   ],
   "source": [
    "\n",
    "\n",
    "import folium\n",
    "from folium.plugins import MarkerCluster\n",
    "import geopandas as gpd\n",
    "import pandas as pd\n",
    "\n",
    "df = pd.read_csv('fuel_data.csv')\n",
    "#unique values for first column\n",
    "df['Fuel Type Code'].unique()\n",
    "df.columns\n",
    "\n",
    "# Define a list of columns relevant to electric fuel types\n",
    "df = pd.read_csv('stations_new.csv')\n",
    "relevant_columns = [\n",
    "    'Station Name', 'Street Address', 'City', 'State', 'ZIP', 'Latitude', 'Longitude',\n",
    "    'EV Level1 EVSE Num', 'EV Level2 EVSE Num', 'EV DC Fast Count', 'EV Network',\n",
    "    'EV Network Web', 'Access Days Time', 'Station Phone', 'EV Connector Types'\n",
    "]\n",
    "\n",
    "# Drop columns that are not in the list of relevant columns\n",
    "df_elec = df[relevant_columns].copy()\n",
    "# Assuming df_elec is your DataFrame filtered for electric fuel types\n",
    "df = pd.read_csv('fuel_data.csv')\n",
    "\n",
    "df_elec = df[df['Fuel Type Code'] == 'ELEC'].copy()\n",
    "# Filter the DataFrame for stations in California\n",
    "df_elec_ca = df_elec[df_elec['State'] == 'CA'].copy()\n",
    "\n",
    "# Initialize the map centered around California\n",
    "m_elec_ca = folium.Map(location=[36.7783, -119.4179], zoom_start=6)\n",
    "\n",
    "# Create a marker cluster for the entire map\n",
    "mc_elec_ca = MarkerCluster(name=\"All Stations\", show=True)\n",
    "m_elec_ca.add_child(mc_elec_ca)\n",
    "\n",
    "# Loop through the filtered DataFrame to add each EV station to the cluster\n",
    "for idx, row in df_elec_ca.iterrows():\n",
    "    popup_text = f\"\"\"\n",
    "    <strong>Station Name:</strong> {row['Station Name']}<br>\n",
    "    <strong>Address:</strong> {row['Street Address']}, {row['City']}, {row['State']} {row['ZIP']}<br>\n",
    "    <strong>Phone:</strong> {row['Station Phone']}<br>\n",
    "    <strong>EV Level 1 EVSE:</strong> {row['EV Level1 EVSE Num']}<br>\n",
    "    <strong>EV Level 2 EVSE:</strong> {row['EV Level2 EVSE Num']}<br>\n",
    "    <strong>EV DC Fast Count:</strong> {row['EV DC Fast Count']}<br>\n",
    "    <strong>EV Network:</strong> {row['EV Network']}\n",
    "    \"\"\"\n",
    "    mc_elec_ca.add_child(folium.Marker(\n",
    "        location=[row['Latitude'], row['Longitude']],\n",
    "        popup=folium.Popup(popup_text, max_width=300)\n",
    "    ))\n",
    "\n",
    "\n",
    "# Add GeoJSON layers from ZIP files\n",
    "colors = ['green', 'red', 'blue']\n",
    "shapefile_paths = [\n",
    "    'Bottlenecks/HWY_Bottleneck.shp',\n",
    "    'Traffic_Volumes_AADT/HWY_Traffic_Volumes_AADT.shp',\n",
    "    'Average_Transit_Speeds_by_Route_Time-of-Day_and_Segments/Average_Transit_Speeds_by_Route_Time-of-Day_and_Segments.shp']\n",
    "\n",
    "\n",
    "for shp_path, color in zip(shapefile_paths, colors):\n",
    "    gdf = gpd.read_file(shp_path)\n",
    "    style_function = lambda x: {'color': color, 'weight': 3 if 'LineString' in x['geometry'].type else 1}\n",
    "    folium.GeoJson(\n",
    "        gdf,\n",
    "        style_function=style_function,\n",
    "        name=shp_path.split('/')[-1].split('.')[0]  # Naming by shapefile name\n",
    "    ).add_to(m_elec_ca)\n",
    "\n",
    "folium.LayerControl().add_to(m_elec_ca)\n",
    "\n",
    "##print map \n",
    "#m_elec_ca\n",
    "# Save the map\n",
    "m_elec_ca.save('ev_ca_map.html')\n"
   ]
  }
 ],
 "metadata": {
  "kernelspec": {
   "display_name": "geoenv",
   "language": "python",
   "name": "python3"
  },
  "language_info": {
   "codemirror_mode": {
    "name": "ipython",
    "version": 3
   },
   "file_extension": ".py",
   "mimetype": "text/x-python",
   "name": "python",
   "nbconvert_exporter": "python",
   "pygments_lexer": "ipython3",
   "version": "3.11.5"
  }
 },
 "nbformat": 4,
 "nbformat_minor": 2
}
