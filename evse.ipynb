{
 "cells": [
  {
   "cell_type": "code",
   "execution_count": 1,
   "metadata": {},
   "outputs": [
    {
     "name": "stderr",
     "output_type": "stream",
     "text": [
     ]
    },
    {
     "data": {
      "text/plain": [
       "Index(['Fuel Type Code', 'Station Name', 'Street Address',\n",
       "       'Intersection Directions', 'City', 'State', 'ZIP', 'Station Phone',\n",
       "       'Status Code', 'Expected Date', 'Groups With Access Code',\n",
       "       'Access Days Time', 'Cards Accepted', 'EV Level1 EVSE Num',\n",
       "       'EV Level2 EVSE Num', 'EV DC Fast Count', 'EV Network',\n",
       "       'EV Network Web', 'Geocode Status', 'Latitude', 'Longitude',\n",
       "       'Date Last Confirmed', 'ID', 'Updated At', 'Owner Type Code',\n",
       "       'Federal Agency ID', 'Federal Agency Name', 'Open Date',\n",
       "       'EV Connector Types', 'Country', 'Intersection Directions (French)',\n",
       "       'Access Days Time (French)', 'Groups With Access Code (French)',\n",
       "       'Access Code', 'Access Detail Code', 'Federal Agency Code',\n",
       "       'Facility Type', 'EV Pricing', 'EV Pricing (French)',\n",
       "       'EV On-Site Renewable Source', 'Restricted Access', 'NPS Unit Name',\n",
       "       'Maximum Vehicle Class', 'EV Workplace Charging'],\n",
       "      dtype='object')"
      ]
     },
     "execution_count": 1,
     "metadata": {},
     "output_type": "execute_result"
    }
   ],
   "source": [
    "import pandas as pd\n",
    "df = pd.read_csv('california_chargers.csv')\n",
    "df.columns"
   ]
  },
  {
   "cell_type": "markdown",
   "metadata": {},
   "source": [
    "### Southeast california "
   ]
  },
  {
   "cell_type": "code",
   "execution_count": 13,
   "metadata": {},
   "outputs": [
    {
     "name": "stderr",
     "output_type": "stream",
     "text": [
      ""
     ]
    }
   ],
   "source": [
    "import folium \n",
    "df = pd.read_csv('fuel_data.csv')\n",
    "m = folium.Map(location=[37.7749, -122.4194], zoom_start=10)\n",
    "mc = MarkerCluster()\n",
    "for idx, row in df.iterrows():\n",
    "    mc.add_child(folium.Marker(location=[row['Latitude'], row['Longitude']]))\n",
    "m.add_child(mc)\n",
    "m.save('usa_map.html')\n"
   ]
  },
  {
   "cell_type": "code",
   "execution_count": 2,
   "metadata": {},
   "outputs": [
    {
     "name": "stderr",
     "output_type": "stream",
     "text": [
      ""
     ]
    },
    {
     "data": {
      "text/plain": [
       "Index(['Fuel Type Code', 'Station Name', 'Street Address',\n",
       "       'Intersection Directions', 'City', 'State', 'ZIP', 'Plus4',\n",
       "       'Station Phone', 'Status Code', 'Expected Date',\n",
       "       'Groups With Access Code', 'Access Days Time', 'Cards Accepted',\n",
       "       'BD Blends', 'NG Fill Type Code', 'NG PSI', 'EV Level1 EVSE Num',\n",
       "       'EV Level2 EVSE Num', 'EV DC Fast Count', 'EV Other Info', 'EV Network',\n",
       "       'EV Network Web', 'Geocode Status', 'Latitude', 'Longitude',\n",
       "       'Date Last Confirmed', 'ID', 'Updated At', 'Owner Type Code',\n",
       "       'Federal Agency ID', 'Federal Agency Name', 'Open Date',\n",
       "       'Hydrogen Status Link', 'NG Vehicle Class', 'LPG Primary',\n",
       "       'E85 Blender Pump', 'EV Connector Types', 'Country',\n",
       "       'Intersection Directions (French)', 'Access Days Time (French)',\n",
       "       'BD Blends (French)', 'Groups With Access Code (French)',\n",
       "       'Hydrogen Is Retail', 'Access Code', 'Access Detail Code',\n",
       "       'Federal Agency Code', 'Facility Type', 'CNG Dispenser Num',\n",
       "       'CNG On-Site Renewable Source', 'CNG Total Compression Capacity',\n",
       "       'CNG Storage Capacity', 'LNG On-Site Renewable Source',\n",
       "       'E85 Other Ethanol Blends', 'EV Pricing', 'EV Pricing (French)',\n",
       "       'LPG Nozzle Types', 'Hydrogen Pressures', 'Hydrogen Standards',\n",
       "       'CNG Fill Type Code', 'CNG PSI', 'CNG Vehicle Class',\n",
       "       'LNG Vehicle Class', 'EV On-Site Renewable Source', 'Restricted Access',\n",
       "       'RD Blends', 'RD Blends (French)', 'RD Blended with Biodiesel',\n",
       "       'RD Maximum Biodiesel Level', 'NPS Unit Name',\n",
       "       'CNG Station Sells Renewable Natural Gas',\n",
       "       'LNG Station Sells Renewable Natural Gas', 'Maximum Vehicle Class',\n",
       "       'EV Workplace Charging'],\n",
       "      dtype='object')"
      ]
     },
     "execution_count": 2,
     "metadata": {},
     "output_type": "execute_result"
    }
   ],
   "source": [
    "## list column names \n",
    "\n",
    "df = pd.read_csv('fuel_data.csv')\n",
    "#unique values for first column\n",
    "df['Fuel Type Code'].unique()\n",
    "df.columns"
   ]
  },
  {
   "cell_type": "code",
   "execution_count": 6,
   "metadata": {},
   "outputs": [
    {
     "name": "stderr",
     "output_type": "stream",
     "text": [
      ""
     ]
    }
   ],
   "source": [
    "# Define a list of columns relevant to electric fuel types\n",
    "df = pd.read_csv('stations_new.csv')\n",
    "relevant_columns = [\n",
    "    'Station Name', 'Street Address', 'City', 'State', 'ZIP', 'Latitude', 'Longitude',\n",
    "    'EV Level1 EVSE Num', 'EV Level2 EVSE Num', 'EV DC Fast Count', 'EV Network',\n",
    "    'EV Network Web', 'Access Days Time', 'Station Phone', 'EV Connector Types'\n",
    "]\n",
    "\n",
    "# Drop columns that are not in the list of relevant columns\n",
    "df_elec = df[relevant_columns].copy()\n"
   ]
  },
  {
   "cell_type": "code",
   "execution_count": 25,
   "metadata": {},
   "outputs": [],
   "source": [
    "import folium\n",
    "from folium.plugins import MarkerCluster\n",
    "\n",
    "# Assuming df_elec is your DataFrame after filtering columns\n",
    "\n",
    "# Create a base map\n",
    "m_elec = folium.Map(location=[37.7749, -122.4194], zoom_start=10)\n",
    "\n",
    "# Initialize a marker cluster\n",
    "mc_elec = MarkerCluster()\n",
    "\n",
    "# Loop through the DataFrame and add each EV station to the map\n",
    "for idx, row in df_elec.iterrows():\n",
    "    # Prepare popup text with EV-specific details\n",
    "    popup_text = f\"\"\"\n",
    "    <strong>Station Name:</strong> {row['Station Name']}<br>\n",
    "    <strong>Address:</strong> {row['Street Address']}, {row['City']}, {row['State']} {row['ZIP']}<br>\n",
    "    <strong>Phone:</strong> {row['Station Phone']}<br>\n",
    "    <strong>EV Level 1 EVSE:</strong> {row['EV Level1 EVSE Num']}<br>\n",
    "    <strong>EV Level 2 EVSE:</strong> {row['EV Level2 EVSE Num']}<br>\n",
    "    <strong>EV DC Fast Count:</strong> {row['EV DC Fast Count']}<br>\n",
    "    <strong>EV Network:</strong> {row['EV Network']}<br>\n",
    "    <strong>Access Days and Time:</strong> {row['Access Days Time']}\n",
    "    \"\"\"\n",
    "    # Add a marker for the station\n",
    "    mc_elec.add_child(folium.Marker(\n",
    "        location=[row['Latitude'], row['Longitude']],\n",
    "        popup=folium.Popup(popup_text, max_width=300)\n",
    "    ))\n",
    "\n",
    "# Add the MarkerCluster to the map\n",
    "m_elec.add_child(mc_elec)\n",
    "\n",
    "# Save the map to an HTML file\n",
    "m_elec.save('electric_stations_map.html')\n"
   ]
  },
  {
   "cell_type": "code",
   "execution_count": 29,
   "metadata": {},
   "outputs": [],
   "source": [
    "import folium\n",
    "from folium.plugins import MarkerCluster\n",
    "import geopandas as gpd\n",
    "import pandas as pd\n",
    "\n",
    "# Assuming df_elec is your DataFrame filtered for electric fuel types\n",
    "# Filter the DataFrame for stations in California\n",
    "df_elec_ca = df_elec[df_elec['State'] == 'CA'].copy()\n",
    "\n",
    "# Initialize the map centered around California\n",
    "m_elec_ca = folium.Map(location=[36.7783, -119.4179], zoom_start=6)\n",
    "\n",
    "# Initialize a marker cluster for California\n",
    "mc_elec_ca = MarkerCluster()\n",
    "\n",
    "# Loop through the filtered DataFrame and add each EV station to the map\n",
    "for idx, row in df_elec_ca.iterrows():\n",
    "    popup_text = f\"\"\"\n",
    "    <strong>Station Name:</strong> {row['Station Name']}<br>\n",
    "    <strong>Address:</strong> {row['Street Address']}, {row['City']}, {row['State']} {row['ZIP']}<br>\n",
    "    <strong>Phone:</strong> {row['Station Phone']}<br>\n",
    "    <strong>EV Level 1 EVSE:</strong> {row['EV Level1 EVSE Num']}<br>\n",
    "    <strong>EV Level 2 EVSE:</strong> {row['EV Level2 EVSE Num']}<br>\n",
    "    <strong>EV DC Fast Count:</strong> {row['EV DC Fast Count']}<br>\n",
    "    <strong>EV Network:</strong> {row['EV Network']}\n",
    "    \"\"\"\n",
    "    mc_elec_ca.add_child(folium.Marker(\n",
    "        location=[row['Latitude'], row['Longitude']],\n",
    "        popup=folium.Popup(popup_text, max_width=300)\n",
    "    ))\n",
    "\n",
    "# Add the MarkerCluster to the map\n",
    "m_elec_ca.add_child(mc_elec_ca)\n",
    "\n",
    "# Define unique colors for each layer\n",
    "colors = ['blue', 'green', 'red', 'purple']\n",
    "\n",
    "# List of ZIP file paths for your shapefiles\n",
    "zipfile_paths = [\n",
    "    'C:/Users/Wiela/Desktop/geojson/Caltrans_Districts.zip',\n",
    "    'C:/Users/Wiela/Desktop/geojson/Traffic_Volumes_AADT.zip',\n",
    "    'C:/Users/Wiela/Desktop/geojson/Bottlenecks.zip',\n",
    "    'C:/Users/Wiela/Desktop/geojson/Average_Transit_Speeds_by_Route_Time-of-Day_and_Segments.zip'\n",
    "]\n",
    "\n",
    "# Loop through each ZIP file, load, and add to the map with unique colors\n",
    "for zip_path, color in zip(zipfile_paths, colors):\n",
    "    gdf = gpd.read_file(f'zip://{zip_path}')\n",
    "    \n",
    "    # Check if the GeoDataFrame contains LineString geometries for Traffic Volumes\n",
    "    if 'Traffic_Volumes_AADT' in zip_path and any(gdf.geom_type == 'LineString'):\n",
    "        style_function = lambda x: {'color': color, 'weight': 3}\n",
    "    else:  # Default style for other layers\n",
    "        style_function = lambda x: {'fillColor': color, 'color': color, 'weight': 1}\n",
    "    \n",
    "    # Overlay GeoJSON on the map\n",
    "    folium.GeoJson(\n",
    "        gdf,\n",
    "        style_function=style_function,\n",
    "        name=zip_path.split('/')[-1].split('.')[0]  # Naming the layer by the ZIP file name\n",
    "    ).add_to(m_elec_ca)\n",
    "\n",
    "# Optionally, add a layer control to toggle the GeoJSON layers\n",
    "folium.LayerControl().add_to(m_elec_ca)\n",
    "\n",
    "# Save the map\n",
    "m_elec_ca.save('electric_stations_map_ca_with_shapefiles_v2.html')\n"
   ]
  },
  {
   "cell_type": "code",
   "execution_count": 11,
   "metadata": {},
   "outputs": [
    {
     "name": "stderr",
     "output_type": "stream",
     "text": [
     ]
    },
    {
     "ename": "AttributeError",
     "evalue": "'dict' object has no attribute 'type'",
     "output_type": "error",
     "traceback": [
      "\u001b[1;31m---------------------------------------------------------------------------\u001b[0m",
      "\u001b[1;31mAttributeError\u001b[0m                            Traceback (most recent call last)",
      "Cell \u001b[1;32mIn[11], line 63\u001b[0m\n\u001b[0;32m     61\u001b[0m     gdf \u001b[38;5;241m=\u001b[39m gpd\u001b[38;5;241m.\u001b[39mread_file(shp_path)\n\u001b[0;32m     62\u001b[0m     style_function \u001b[38;5;241m=\u001b[39m \u001b[38;5;28;01mlambda\u001b[39;00m x: {\u001b[38;5;124m'\u001b[39m\u001b[38;5;124mcolor\u001b[39m\u001b[38;5;124m'\u001b[39m: color, \u001b[38;5;124m'\u001b[39m\u001b[38;5;124mweight\u001b[39m\u001b[38;5;124m'\u001b[39m: \u001b[38;5;241m3\u001b[39m \u001b[38;5;28;01mif\u001b[39;00m \u001b[38;5;124m'\u001b[39m\u001b[38;5;124mLineString\u001b[39m\u001b[38;5;124m'\u001b[39m \u001b[38;5;129;01min\u001b[39;00m x[\u001b[38;5;124m'\u001b[39m\u001b[38;5;124mgeometry\u001b[39m\u001b[38;5;124m'\u001b[39m]\u001b[38;5;241m.\u001b[39mtype \u001b[38;5;28;01melse\u001b[39;00m \u001b[38;5;241m1\u001b[39m}\n\u001b[1;32m---> 63\u001b[0m     \u001b[43mfolium\u001b[49m\u001b[38;5;241;43m.\u001b[39;49m\u001b[43mGeoJson\u001b[49m\u001b[43m(\u001b[49m\n\u001b[0;32m     64\u001b[0m \u001b[43m        \u001b[49m\u001b[43mgdf\u001b[49m\u001b[43m,\u001b[49m\n\u001b[0;32m     65\u001b[0m \u001b[43m        \u001b[49m\u001b[43mstyle_function\u001b[49m\u001b[38;5;241;43m=\u001b[39;49m\u001b[43mstyle_function\u001b[49m\u001b[43m,\u001b[49m\n\u001b[0;32m     66\u001b[0m \u001b[43m        \u001b[49m\u001b[43mname\u001b[49m\u001b[38;5;241;43m=\u001b[39;49m\u001b[43mshp_path\u001b[49m\u001b[38;5;241;43m.\u001b[39;49m\u001b[43msplit\u001b[49m\u001b[43m(\u001b[49m\u001b[38;5;124;43m'\u001b[39;49m\u001b[38;5;124;43m/\u001b[39;49m\u001b[38;5;124;43m'\u001b[39;49m\u001b[43m)\u001b[49m\u001b[43m[\u001b[49m\u001b[38;5;241;43m-\u001b[39;49m\u001b[38;5;241;43m1\u001b[39;49m\u001b[43m]\u001b[49m\u001b[38;5;241;43m.\u001b[39;49m\u001b[43msplit\u001b[49m\u001b[43m(\u001b[49m\u001b[38;5;124;43m'\u001b[39;49m\u001b[38;5;124;43m.\u001b[39;49m\u001b[38;5;124;43m'\u001b[39;49m\u001b[43m)\u001b[49m\u001b[43m[\u001b[49m\u001b[38;5;241;43m0\u001b[39;49m\u001b[43m]\u001b[49m\u001b[43m  \u001b[49m\u001b[38;5;66;43;03m# Naming by shapefile name\u001b[39;49;00m\n\u001b[0;32m     67\u001b[0m \u001b[43m    \u001b[49m\u001b[43m)\u001b[49m\u001b[38;5;241m.\u001b[39madd_to(m_elec_ca)\n\u001b[0;32m     69\u001b[0m folium\u001b[38;5;241m.\u001b[39mLayerControl()\u001b[38;5;241m.\u001b[39madd_to(m_elec_ca)\n\u001b[0;32m     71\u001b[0m \u001b[38;5;66;03m##print map \u001b[39;00m\n\u001b[0;32m     72\u001b[0m \u001b[38;5;66;03m#m_elec_ca\u001b[39;00m\n\u001b[0;32m     73\u001b[0m \u001b[38;5;66;03m# Save the map\u001b[39;00m\n",
      "File \u001b[1;32mc:\\Users\\Wiela\\Desktop\\geojson\\geoenv\\Lib\\site-packages\\folium\\features.py:670\u001b[0m, in \u001b[0;36mGeoJson.__init__\u001b[1;34m(self, data, style_function, highlight_function, name, overlay, control, show, smooth_factor, tooltip, embed, popup, zoom_on_click, marker, **kwargs)\u001b[0m\n\u001b[0;32m    668\u001b[0m \u001b[38;5;28mself\u001b[39m\u001b[38;5;241m.\u001b[39mconvert_to_feature_collection()\n\u001b[0;32m    669\u001b[0m \u001b[38;5;28;01mif\u001b[39;00m style_function \u001b[38;5;129;01mis\u001b[39;00m \u001b[38;5;129;01mnot\u001b[39;00m \u001b[38;5;28;01mNone\u001b[39;00m:\n\u001b[1;32m--> 670\u001b[0m     \u001b[38;5;28;43mself\u001b[39;49m\u001b[38;5;241;43m.\u001b[39;49m\u001b[43m_validate_function\u001b[49m\u001b[43m(\u001b[49m\u001b[43mstyle_function\u001b[49m\u001b[43m,\u001b[49m\u001b[43m \u001b[49m\u001b[38;5;124;43m\"\u001b[39;49m\u001b[38;5;124;43mstyle_function\u001b[39;49m\u001b[38;5;124;43m\"\u001b[39;49m\u001b[43m)\u001b[49m\n\u001b[0;32m    671\u001b[0m     \u001b[38;5;28mself\u001b[39m\u001b[38;5;241m.\u001b[39mstyle_function \u001b[38;5;241m=\u001b[39m style_function\n\u001b[0;32m    672\u001b[0m     \u001b[38;5;28mself\u001b[39m\u001b[38;5;241m.\u001b[39mstyle_map: \u001b[38;5;28mdict\u001b[39m \u001b[38;5;241m=\u001b[39m {}\n",
      "File \u001b[1;32mc:\\Users\\Wiela\\Desktop\\geojson\\geoenv\\Lib\\site-packages\\folium\\features.py:745\u001b[0m, in \u001b[0;36mGeoJson._validate_function\u001b[1;34m(self, func, name)\u001b[0m\n\u001b[0;32m    742\u001b[0m     \u001b[38;5;28;01mreturn\u001b[39;00m\n\u001b[0;32m    744\u001b[0m test_feature \u001b[38;5;241m=\u001b[39m \u001b[38;5;28mself\u001b[39m\u001b[38;5;241m.\u001b[39mdata[\u001b[38;5;124m\"\u001b[39m\u001b[38;5;124mfeatures\u001b[39m\u001b[38;5;124m\"\u001b[39m][\u001b[38;5;241m0\u001b[39m]\n\u001b[1;32m--> 745\u001b[0m \u001b[38;5;28;01mif\u001b[39;00m \u001b[38;5;129;01mnot\u001b[39;00m \u001b[38;5;28mcallable\u001b[39m(func) \u001b[38;5;129;01mor\u001b[39;00m \u001b[38;5;129;01mnot\u001b[39;00m \u001b[38;5;28misinstance\u001b[39m(\u001b[43mfunc\u001b[49m\u001b[43m(\u001b[49m\u001b[43mtest_feature\u001b[49m\u001b[43m)\u001b[49m, \u001b[38;5;28mdict\u001b[39m):\n\u001b[0;32m    746\u001b[0m     \u001b[38;5;28;01mraise\u001b[39;00m \u001b[38;5;167;01mValueError\u001b[39;00m(\n\u001b[0;32m    747\u001b[0m         \u001b[38;5;124mf\u001b[39m\u001b[38;5;124m\"\u001b[39m\u001b[38;5;132;01m{\u001b[39;00mname\u001b[38;5;132;01m}\u001b[39;00m\u001b[38;5;124m should be a function that accepts items from \u001b[39m\u001b[38;5;124m\"\u001b[39m\n\u001b[0;32m    748\u001b[0m         \u001b[38;5;124m\"\u001b[39m\u001b[38;5;124mdata[\u001b[39m\u001b[38;5;124m'\u001b[39m\u001b[38;5;124mfeatures\u001b[39m\u001b[38;5;124m'\u001b[39m\u001b[38;5;124m] and returns a dictionary.\u001b[39m\u001b[38;5;124m\"\u001b[39m\n\u001b[0;32m    749\u001b[0m     )\n",
      "Cell \u001b[1;32mIn[11], line 62\u001b[0m, in \u001b[0;36m<lambda>\u001b[1;34m(x)\u001b[0m\n\u001b[0;32m     60\u001b[0m \u001b[38;5;28;01mfor\u001b[39;00m shp_path, color \u001b[38;5;129;01min\u001b[39;00m \u001b[38;5;28mzip\u001b[39m(shapefile_paths, colors):\n\u001b[0;32m     61\u001b[0m     gdf \u001b[38;5;241m=\u001b[39m gpd\u001b[38;5;241m.\u001b[39mread_file(shp_path)\n\u001b[1;32m---> 62\u001b[0m     style_function \u001b[38;5;241m=\u001b[39m \u001b[38;5;28;01mlambda\u001b[39;00m x: {\u001b[38;5;124m'\u001b[39m\u001b[38;5;124mcolor\u001b[39m\u001b[38;5;124m'\u001b[39m: color, \u001b[38;5;124m'\u001b[39m\u001b[38;5;124mweight\u001b[39m\u001b[38;5;124m'\u001b[39m: \u001b[38;5;241m3\u001b[39m \u001b[38;5;28;01mif\u001b[39;00m \u001b[38;5;124m'\u001b[39m\u001b[38;5;124mLineString\u001b[39m\u001b[38;5;124m'\u001b[39m \u001b[38;5;129;01min\u001b[39;00m \u001b[43mx\u001b[49m\u001b[43m[\u001b[49m\u001b[38;5;124;43m'\u001b[39;49m\u001b[38;5;124;43mgeometry\u001b[39;49m\u001b[38;5;124;43m'\u001b[39;49m\u001b[43m]\u001b[49m\u001b[38;5;241;43m.\u001b[39;49m\u001b[43mtype\u001b[49m \u001b[38;5;28;01melse\u001b[39;00m \u001b[38;5;241m1\u001b[39m}\n\u001b[0;32m     63\u001b[0m     folium\u001b[38;5;241m.\u001b[39mGeoJson(\n\u001b[0;32m     64\u001b[0m         gdf,\n\u001b[0;32m     65\u001b[0m         style_function\u001b[38;5;241m=\u001b[39mstyle_function,\n\u001b[0;32m     66\u001b[0m         name\u001b[38;5;241m=\u001b[39mshp_path\u001b[38;5;241m.\u001b[39msplit(\u001b[38;5;124m'\u001b[39m\u001b[38;5;124m/\u001b[39m\u001b[38;5;124m'\u001b[39m)[\u001b[38;5;241m-\u001b[39m\u001b[38;5;241m1\u001b[39m]\u001b[38;5;241m.\u001b[39msplit(\u001b[38;5;124m'\u001b[39m\u001b[38;5;124m.\u001b[39m\u001b[38;5;124m'\u001b[39m)[\u001b[38;5;241m0\u001b[39m]  \u001b[38;5;66;03m# Naming by shapefile name\u001b[39;00m\n\u001b[0;32m     67\u001b[0m     )\u001b[38;5;241m.\u001b[39madd_to(m_elec_ca)\n\u001b[0;32m     69\u001b[0m folium\u001b[38;5;241m.\u001b[39mLayerControl()\u001b[38;5;241m.\u001b[39madd_to(m_elec_ca)\n",
      "\u001b[1;31mAttributeError\u001b[0m: 'dict' object has no attribute 'type'"
     ]
    }
   ],
   "source": [
    "\n",
    "\n",
    "import folium\n",
    "from folium.plugins import MarkerCluster\n",
    "import geopandas as gpd\n",
    "import pandas as pd\n",
    "\n",
    "df = pd.read_csv('fuel_data.csv')\n",
    "#unique values for first column\n",
    "df['Fuel Type Code'].unique()\n",
    "df.columns\n",
    "\n",
    "# Define a list of columns relevant to electric fuel types\n",
    "df = pd.read_csv('stations_new.csv')\n",
    "relevant_columns = [\n",
    "    'Station Name', 'Street Address', 'City', 'State', 'ZIP', 'Latitude', 'Longitude',\n",
    "    'EV Level1 EVSE Num', 'EV Level2 EVSE Num', 'EV DC Fast Count', 'EV Network',\n",
    "    'EV Network Web', 'Access Days Time', 'Station Phone', 'EV Connector Types'\n",
    "]\n",
    "\n",
    "# Drop columns that are not in the list of relevant columns\n",
    "df_elec = df[relevant_columns].copy()\n",
    "# Assuming df_elec is your DataFrame filtered for electric fuel types\n",
    "df = pd.read_csv('fuel_data.csv')\n",
    "\n",
    "df_elec = df[df['Fuel Type Code'] == 'ELEC'].copy()\n",
    "# Filter the DataFrame for stations in California\n",
    "df_elec_ca = df_elec[df_elec['State'] == 'CA'].copy()\n",
    "\n",
    "# Initialize the map centered around California\n",
    "m_elec_ca = folium.Map(location=[36.7783, -119.4179], zoom_start=6)\n",
    "\n",
    "# Create a marker cluster for the entire map\n",
    "mc_elec_ca = MarkerCluster(name=\"All Stations\", show=True)\n",
    "m_elec_ca.add_child(mc_elec_ca)\n",
    "\n",
    "# Loop through the filtered DataFrame to add each EV station to the cluster\n",
    "for idx, row in df_elec_ca.iterrows():\n",
    "    popup_text = f\"\"\"\n",
    "    <strong>Station Name:</strong> {row['Station Name']}<br>\n",
    "    <strong>Address:</strong> {row['Street Address']}, {row['City']}, {row['State']} {row['ZIP']}<br>\n",
    "    <strong>Phone:</strong> {row['Station Phone']}<br>\n",
    "    <strong>EV Level 1 EVSE:</strong> {row['EV Level1 EVSE Num']}<br>\n",
    "    <strong>EV Level 2 EVSE:</strong> {row['EV Level2 EVSE Num']}<br>\n",
    "    <strong>EV DC Fast Count:</strong> {row['EV DC Fast Count']}<br>\n",
    "    <strong>EV Network:</strong> {row['EV Network']}\n",
    "    \"\"\"\n",
    "    mc_elec_ca.add_child(folium.Marker(\n",
    "        location=[row['Latitude'], row['Longitude']],\n",
    "        popup=folium.Popup(popup_text, max_width=300)\n",
    "    ))\n",
    "\n",
    "\n",
    "# Add GeoJSON layers from ZIP files\n",
    "colors = ['green', 'red', 'blue']\n",
    "shapefile_paths = [\n",
    "    'Bottlenecks/HWY_Bottleneck.shp',\n",
    "    'Traffic_Volumes_AADT/HWY_Traffic_Volumes_AADT.shp',\n",
    "    'Average_Transit_Speeds_by_Route_Time-of-Day_and_Segments/Average_Transit_Speeds_by_Route_Time-of-Day_and_Segments.shp']\n",
    "\n",
    "\n",
    "for shp_path, color in zip(shapefile_paths, colors):\n",
    "    gdf = gpd.read_file(shp_path)\n",
    "    style_function = lambda x: {'color': color, 'weight': 3 if 'LineString' in x['geometry'].type else 1}\n",
    "    folium.GeoJson(\n",
    "        gdf,\n",
    "        style_function=style_function,\n",
    "        name=shp_path.split('/')[-1].split('.')[0]  # Naming by shapefile name\n",
    "    ).add_to(m_elec_ca)\n",
    "\n",
    "folium.LayerControl().add_to(m_elec_ca)\n",
    "\n",
    "##print map \n",
    "#m_elec_ca\n",
    "# Save the map\n",
    "m_elec_ca.save('ev_ca_map.html')\n"
   ]
  }
 ],
 "metadata": {
  "kernelspec": {
   "display_name": "geoenv",
   "language": "python",
   "name": "python3"
  },
  "language_info": {
   "codemirror_mode": {
    "name": "ipython",
    "version": 3
   },
   "file_extension": ".py",
   "mimetype": "text/x-python",
   "name": "python",
   "nbconvert_exporter": "python",
   "pygments_lexer": "ipython3",
   "version": "3.11.5"
  }
 },
 "nbformat": 4,
 "nbformat_minor": 2
}
